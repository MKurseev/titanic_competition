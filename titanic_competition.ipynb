{
 "cells": [
  {
   "cell_type": "code",
   "execution_count": 2,
   "id": "e81c8bdf",
   "metadata": {},
   "outputs": [],
   "source": [
    "import pandas as pd\n",
    "import numpy as np\n",
    "import matplotlib.pyplot as plt\n",
    "import seaborn as sns\n",
    "\n",
    "from sklearn.preprocessing import StandardScaler\n",
    "from sklearn.metrics import accuracy_score, roc_auc_score\n",
    "\n",
    "from sklearn.model_selection import cross_val_score, KFold, GridSearchCV, train_test_split"
   ]
  },
  {
   "cell_type": "code",
   "execution_count": 3,
   "id": "10ef9337",
   "metadata": {},
   "outputs": [],
   "source": [
    "data = pd.read_csv('titanic_train.csv')"
   ]
  },
  {
   "cell_type": "code",
   "execution_count": 4,
   "id": "486c1b69",
   "metadata": {},
   "outputs": [
    {
     "data": {
      "text/html": [
       "<div>\n",
       "<style scoped>\n",
       "    .dataframe tbody tr th:only-of-type {\n",
       "        vertical-align: middle;\n",
       "    }\n",
       "\n",
       "    .dataframe tbody tr th {\n",
       "        vertical-align: top;\n",
       "    }\n",
       "\n",
       "    .dataframe thead th {\n",
       "        text-align: right;\n",
       "    }\n",
       "</style>\n",
       "<table border=\"1\" class=\"dataframe\">\n",
       "  <thead>\n",
       "    <tr style=\"text-align: right;\">\n",
       "      <th></th>\n",
       "      <th>PassengerId</th>\n",
       "      <th>Survived</th>\n",
       "      <th>Pclass</th>\n",
       "      <th>Name</th>\n",
       "      <th>Sex</th>\n",
       "      <th>Age</th>\n",
       "      <th>SibSp</th>\n",
       "      <th>Parch</th>\n",
       "      <th>Ticket</th>\n",
       "      <th>Fare</th>\n",
       "      <th>Cabin</th>\n",
       "      <th>Embarked</th>\n",
       "    </tr>\n",
       "  </thead>\n",
       "  <tbody>\n",
       "    <tr>\n",
       "      <th>0</th>\n",
       "      <td>1</td>\n",
       "      <td>0</td>\n",
       "      <td>3</td>\n",
       "      <td>Braund, Mr. Owen Harris</td>\n",
       "      <td>male</td>\n",
       "      <td>22.0</td>\n",
       "      <td>1</td>\n",
       "      <td>0</td>\n",
       "      <td>A/5 21171</td>\n",
       "      <td>7.2500</td>\n",
       "      <td>NaN</td>\n",
       "      <td>S</td>\n",
       "    </tr>\n",
       "    <tr>\n",
       "      <th>1</th>\n",
       "      <td>2</td>\n",
       "      <td>1</td>\n",
       "      <td>1</td>\n",
       "      <td>Cumings, Mrs. John Bradley (Florence Briggs Th...</td>\n",
       "      <td>female</td>\n",
       "      <td>38.0</td>\n",
       "      <td>1</td>\n",
       "      <td>0</td>\n",
       "      <td>PC 17599</td>\n",
       "      <td>71.2833</td>\n",
       "      <td>C85</td>\n",
       "      <td>C</td>\n",
       "    </tr>\n",
       "    <tr>\n",
       "      <th>2</th>\n",
       "      <td>3</td>\n",
       "      <td>1</td>\n",
       "      <td>3</td>\n",
       "      <td>Heikkinen, Miss. Laina</td>\n",
       "      <td>female</td>\n",
       "      <td>26.0</td>\n",
       "      <td>0</td>\n",
       "      <td>0</td>\n",
       "      <td>STON/O2. 3101282</td>\n",
       "      <td>7.9250</td>\n",
       "      <td>NaN</td>\n",
       "      <td>S</td>\n",
       "    </tr>\n",
       "    <tr>\n",
       "      <th>3</th>\n",
       "      <td>4</td>\n",
       "      <td>1</td>\n",
       "      <td>1</td>\n",
       "      <td>Futrelle, Mrs. Jacques Heath (Lily May Peel)</td>\n",
       "      <td>female</td>\n",
       "      <td>35.0</td>\n",
       "      <td>1</td>\n",
       "      <td>0</td>\n",
       "      <td>113803</td>\n",
       "      <td>53.1000</td>\n",
       "      <td>C123</td>\n",
       "      <td>S</td>\n",
       "    </tr>\n",
       "    <tr>\n",
       "      <th>4</th>\n",
       "      <td>5</td>\n",
       "      <td>0</td>\n",
       "      <td>3</td>\n",
       "      <td>Allen, Mr. William Henry</td>\n",
       "      <td>male</td>\n",
       "      <td>35.0</td>\n",
       "      <td>0</td>\n",
       "      <td>0</td>\n",
       "      <td>373450</td>\n",
       "      <td>8.0500</td>\n",
       "      <td>NaN</td>\n",
       "      <td>S</td>\n",
       "    </tr>\n",
       "  </tbody>\n",
       "</table>\n",
       "</div>"
      ],
      "text/plain": [
       "   PassengerId  Survived  Pclass  \\\n",
       "0            1         0       3   \n",
       "1            2         1       1   \n",
       "2            3         1       3   \n",
       "3            4         1       1   \n",
       "4            5         0       3   \n",
       "\n",
       "                                                Name     Sex   Age  SibSp  \\\n",
       "0                            Braund, Mr. Owen Harris    male  22.0      1   \n",
       "1  Cumings, Mrs. John Bradley (Florence Briggs Th...  female  38.0      1   \n",
       "2                             Heikkinen, Miss. Laina  female  26.0      0   \n",
       "3       Futrelle, Mrs. Jacques Heath (Lily May Peel)  female  35.0      1   \n",
       "4                           Allen, Mr. William Henry    male  35.0      0   \n",
       "\n",
       "   Parch            Ticket     Fare Cabin Embarked  \n",
       "0      0         A/5 21171   7.2500   NaN        S  \n",
       "1      0          PC 17599  71.2833   C85        C  \n",
       "2      0  STON/O2. 3101282   7.9250   NaN        S  \n",
       "3      0            113803  53.1000  C123        S  \n",
       "4      0            373450   8.0500   NaN        S  "
      ]
     },
     "execution_count": 4,
     "metadata": {},
     "output_type": "execute_result"
    }
   ],
   "source": [
    "data.head()"
   ]
  },
  {
   "cell_type": "markdown",
   "id": "eeeffc27",
   "metadata": {},
   "source": [
    "Значение признаков :\n",
    "- `Sex` - Пол пассажира\n",
    "- `Name` - Имя пассажира\n",
    "- `PassengerId` - ID пассажира\n",
    "- `Pclass` - Класс билета *(принимает значения **1** = 1st, **2** = 2nd, **3** = 3rd)*\n",
    "- `Age` - Возраст пассажира \n",
    "- `SibSp` - Number of siblings / spouses aboard the Titanic\n",
    "- `Parch` - Number of parents / children aboard the Titanic\n",
    "- `Ticket` - Номер билета \n",
    "- `Fare` - Цена билета \n",
    "- `Cabin` - Номер кабины пассажира \n",
    "- `Embarked` - Порт высадки *(принимает значения **C** = Cherbourg, **Q** = Queenstown, **S** = Southampton)*\n",
    "\n",
    "\n",
    "Значение целевой переменной :\n",
    "- `Survived` - Выжил ли он *(принимает значения **1** и **0**)*\n",
    "\n",
    "\n",
    "Столбцы `name`, `ticket`, `cabin`, `PassengerId` не помогут нам при решении задачи прогнозирования, поэтому уберем их "
   ]
  },
  {
   "cell_type": "markdown",
   "id": "843112be",
   "metadata": {},
   "source": [
    "Первым делом заменим пол на дамми и Порт высадки на дамми переменные. Разберемся с нулями у AGE."
   ]
  },
  {
   "cell_type": "code",
   "execution_count": 5,
   "id": "b61fa2b6",
   "metadata": {},
   "outputs": [
    {
     "name": "stdout",
     "output_type": "stream",
     "text": [
      "<class 'pandas.core.frame.DataFrame'>\n",
      "RangeIndex: 891 entries, 0 to 890\n",
      "Data columns (total 12 columns):\n",
      " #   Column       Non-Null Count  Dtype  \n",
      "---  ------       --------------  -----  \n",
      " 0   PassengerId  891 non-null    int64  \n",
      " 1   Survived     891 non-null    int64  \n",
      " 2   Pclass       891 non-null    int64  \n",
      " 3   Name         891 non-null    object \n",
      " 4   Sex          891 non-null    object \n",
      " 5   Age          714 non-null    float64\n",
      " 6   SibSp        891 non-null    int64  \n",
      " 7   Parch        891 non-null    int64  \n",
      " 8   Ticket       891 non-null    object \n",
      " 9   Fare         891 non-null    float64\n",
      " 10  Cabin        204 non-null    object \n",
      " 11  Embarked     889 non-null    object \n",
      "dtypes: float64(2), int64(5), object(5)\n",
      "memory usage: 83.7+ KB\n"
     ]
    }
   ],
   "source": [
    "data.info()"
   ]
  },
  {
   "cell_type": "code",
   "execution_count": 6,
   "id": "530610ad",
   "metadata": {},
   "outputs": [
    {
     "data": {
      "text/html": [
       "<div>\n",
       "<style scoped>\n",
       "    .dataframe tbody tr th:only-of-type {\n",
       "        vertical-align: middle;\n",
       "    }\n",
       "\n",
       "    .dataframe tbody tr th {\n",
       "        vertical-align: top;\n",
       "    }\n",
       "\n",
       "    .dataframe thead th {\n",
       "        text-align: right;\n",
       "    }\n",
       "</style>\n",
       "<table border=\"1\" class=\"dataframe\">\n",
       "  <thead>\n",
       "    <tr style=\"text-align: right;\">\n",
       "      <th></th>\n",
       "      <th>Pclass</th>\n",
       "      <th>Sex</th>\n",
       "      <th>Age</th>\n",
       "      <th>SibSp</th>\n",
       "      <th>Parch</th>\n",
       "      <th>Fare</th>\n",
       "      <th>Embarked_C</th>\n",
       "      <th>Embarked_Q</th>\n",
       "      <th>Embarked_S</th>\n",
       "    </tr>\n",
       "  </thead>\n",
       "  <tbody>\n",
       "    <tr>\n",
       "      <th>0</th>\n",
       "      <td>3</td>\n",
       "      <td>1</td>\n",
       "      <td>22.0</td>\n",
       "      <td>1</td>\n",
       "      <td>0</td>\n",
       "      <td>7.2500</td>\n",
       "      <td>0</td>\n",
       "      <td>0</td>\n",
       "      <td>1</td>\n",
       "    </tr>\n",
       "    <tr>\n",
       "      <th>1</th>\n",
       "      <td>1</td>\n",
       "      <td>0</td>\n",
       "      <td>38.0</td>\n",
       "      <td>1</td>\n",
       "      <td>0</td>\n",
       "      <td>71.2833</td>\n",
       "      <td>1</td>\n",
       "      <td>0</td>\n",
       "      <td>0</td>\n",
       "    </tr>\n",
       "    <tr>\n",
       "      <th>2</th>\n",
       "      <td>3</td>\n",
       "      <td>0</td>\n",
       "      <td>26.0</td>\n",
       "      <td>0</td>\n",
       "      <td>0</td>\n",
       "      <td>7.9250</td>\n",
       "      <td>0</td>\n",
       "      <td>0</td>\n",
       "      <td>1</td>\n",
       "    </tr>\n",
       "    <tr>\n",
       "      <th>3</th>\n",
       "      <td>1</td>\n",
       "      <td>0</td>\n",
       "      <td>35.0</td>\n",
       "      <td>1</td>\n",
       "      <td>0</td>\n",
       "      <td>53.1000</td>\n",
       "      <td>0</td>\n",
       "      <td>0</td>\n",
       "      <td>1</td>\n",
       "    </tr>\n",
       "    <tr>\n",
       "      <th>4</th>\n",
       "      <td>3</td>\n",
       "      <td>1</td>\n",
       "      <td>35.0</td>\n",
       "      <td>0</td>\n",
       "      <td>0</td>\n",
       "      <td>8.0500</td>\n",
       "      <td>0</td>\n",
       "      <td>0</td>\n",
       "      <td>1</td>\n",
       "    </tr>\n",
       "  </tbody>\n",
       "</table>\n",
       "</div>"
      ],
      "text/plain": [
       "   Pclass  Sex   Age  SibSp  Parch     Fare  Embarked_C  Embarked_Q  \\\n",
       "0       3    1  22.0      1      0   7.2500           0           0   \n",
       "1       1    0  38.0      1      0  71.2833           1           0   \n",
       "2       3    0  26.0      0      0   7.9250           0           0   \n",
       "3       1    0  35.0      1      0  53.1000           0           0   \n",
       "4       3    1  35.0      0      0   8.0500           0           0   \n",
       "\n",
       "   Embarked_S  \n",
       "0           1  \n",
       "1           0  \n",
       "2           1  \n",
       "3           1  \n",
       "4           1  "
      ]
     },
     "execution_count": 6,
     "metadata": {},
     "output_type": "execute_result"
    }
   ],
   "source": [
    "avg_age = data.Age.mean()\n",
    "column = ['Pclass','Sex','Age','SibSp','Parch','Fare','Embarked_C','Embarked_Q','Embarked_S']\n",
    "\n",
    "data.Sex.replace(['male','female'],[1,0], inplace=True)\n",
    "\n",
    "data.Embarked.fillna('None',  inplace = True)\n",
    "data = pd.get_dummies(data, columns=['Embarked'])\n",
    "\n",
    "data.Age.fillna(avg_age, inplace=True)\n",
    "\n",
    "Y = data.Survived\n",
    "X = data[column]\n",
    "\n",
    "X.head()"
   ]
  },
  {
   "cell_type": "code",
   "execution_count": 7,
   "id": "f4eaaa17",
   "metadata": {},
   "outputs": [
    {
     "data": {
      "image/png": "[encoded data removed]",
      "text/plain": [
       "<Figure size 432x288 with 1 Axes>"
      ]
     },
     "metadata": {
      "needs_background": "light"
     },
     "output_type": "display_data"
    },
    {
     "name": "stdout",
     "output_type": "stream",
     "text": [
      "Survived 38.38%\n"
     ]
    }
   ],
   "source": [
    "index = ['Survived', 'Not survived']\n",
    "values = [sum(Y), len(Y) - sum(Y)]\n",
    "plt.bar(index,values)\n",
    "plt.show()\n",
    "print(f'Survived {sum(Y)/len(Y):.2%}')"
   ]
  },
  {
   "cell_type": "markdown",
   "id": "1be61ba2",
   "metadata": {},
   "source": [
    "Выборки достаточно сбалансированны, поэтому будет считаться метрика `Accuracy`"
   ]
  },
  {
   "cell_type": "code",
   "execution_count": 8,
   "id": "c4c05ab3",
   "metadata": {},
   "outputs": [],
   "source": [
    "X_train, X_test, y_train, y_test = train_test_split(X, Y, test_size=0.25, random_state=13)"
   ]
  },
  {
   "cell_type": "code",
   "execution_count": 9,
   "id": "31acedb1",
   "metadata": {},
   "outputs": [],
   "source": [
    "scaler = StandardScaler()\n",
    "scaler.fit(X)\n",
    "X = scaler.transform(X)\n",
    "\n",
    "\n",
    "scaler_train = StandardScaler()\n",
    "scaler_train.fit(X_train)\n",
    "X_train = scaler_train.transform(X_train)\n",
    "X_test = scaler_train.transform(X_test)"
   ]
  },
  {
   "cell_type": "markdown",
   "id": "bcd44604",
   "metadata": {},
   "source": [
    "___\n",
    "## Logistic Regression"
   ]
  },
  {
   "cell_type": "code",
   "execution_count": 10,
   "id": "d0edb0e3",
   "metadata": {},
   "outputs": [],
   "source": [
    "from sklearn.linear_model import LogisticRegression"
   ]
  },
  {
   "cell_type": "code",
   "execution_count": 47,
   "id": "73f88e86",
   "metadata": {},
   "outputs": [
    {
     "name": "stdout",
     "output_type": "stream",
     "text": [
      "accuracy logistic regression = 80.269%\n"
     ]
    }
   ],
   "source": [
    "clf = LogisticRegression()\n",
    "clf.fit(X_train, y_train)\n",
    "\n",
    "pred = clf.predict(X_test)\n",
    "print(f'accuracy logistic regression = {accuracy_score(y_test, pred):.3%}')"
   ]
  },
  {
   "cell_type": "markdown",
   "id": "13e676c2",
   "metadata": {},
   "source": [
    "___\n",
    "## SVM"
   ]
  },
  {
   "cell_type": "code",
   "execution_count": 11,
   "id": "f71c108b",
   "metadata": {},
   "outputs": [],
   "source": [
    "from sklearn.svm import SVC"
   ]
  },
  {
   "cell_type": "code",
   "execution_count": 12,
   "id": "fe9eb1a6",
   "metadata": {},
   "outputs": [
    {
     "name": "stdout",
     "output_type": "stream",
     "text": [
      "accuracy SVM = 83.408%\n"
     ]
    }
   ],
   "source": [
    "clf = SVC()\n",
    "\n",
    "clf.fit(X_train, y_train)\n",
    "y_pred_sgdclf = clf.predict(X_test)\n",
    "print(f'accuracy SVM = {accuracy_score(y_test, y_pred_sgdclf):.3%}')"
   ]
  },
  {
   "cell_type": "markdown",
   "id": "ae7ec43f",
   "metadata": {},
   "source": [
    "___\n",
    "## Decision Tree "
   ]
  },
  {
   "cell_type": "code",
   "execution_count": 13,
   "id": "46e4b1ca",
   "metadata": {},
   "outputs": [],
   "source": [
    "from sklearn.tree import DecisionTreeClassifier"
   ]
  },
  {
   "cell_type": "code",
   "execution_count": 14,
   "id": "d0f8bc0c",
   "metadata": {},
   "outputs": [
    {
     "name": "stdout",
     "output_type": "stream",
     "text": [
      "accuracy = 78.924%\n"
     ]
    }
   ],
   "source": [
    "clf = DecisionTreeClassifier(random_state=13)\n",
    "clf.fit(X_train, y_train)\n",
    "y_pred_dt = clf.predict(X_test)\n",
    "\n",
    "print(f'accuracy = {accuracy_score(y_test, y_pred_dt):.3%}')"
   ]
  },
  {
   "cell_type": "markdown",
   "id": "98c2c063",
   "metadata": {},
   "source": [
    "___\n",
    "# Беггинг"
   ]
  },
  {
   "cell_type": "code",
   "execution_count": 15,
   "id": "ea88d331",
   "metadata": {},
   "outputs": [],
   "source": [
    "res = 0.1\n",
    "N = 200\n",
    "clf = DecisionTreeClassifier()\n",
    "for i in range(N):\n",
    "    ind = np.random.choice(np.arange(X_train.shape[0]),\n",
    "                           size = X_train.shape[0], replace = True).reshape(-1).tolist()\n",
    "    clf.fit(X_train[ind], np.array(y_train)[ind])\n",
    "    y_pred_beg = clf.predict(X_test)\n",
    "    res = max(res, accuracy_score(y_test, y_pred_beg))"
   ]
  },
  {
   "cell_type": "code",
   "execution_count": 16,
   "id": "c62bbe98",
   "metadata": {},
   "outputs": [
    {
     "name": "stdout",
     "output_type": "stream",
     "text": [
      "accuracy = 82.960%\n"
     ]
    }
   ],
   "source": [
    "print(f'accuracy = {res:.3%}')"
   ]
  },
  {
   "cell_type": "markdown",
   "id": "14b97044",
   "metadata": {},
   "source": [
    "Беггинг через sklearn"
   ]
  },
  {
   "cell_type": "code",
   "execution_count": 17,
   "id": "6de6e968",
   "metadata": {},
   "outputs": [],
   "source": [
    "from sklearn.ensemble import BaggingClassifier"
   ]
  },
  {
   "cell_type": "code",
   "execution_count": 18,
   "id": "9b1b1175",
   "metadata": {},
   "outputs": [
    {
     "name": "stdout",
     "output_type": "stream",
     "text": [
      "accuracy Bagging = 81.614%\n"
     ]
    }
   ],
   "source": [
    "bag_clf = BaggingClassifier( DecisionTreeClassifier(), n_estimators= 200, max_samples=200)\n",
    "bag_clf.fit(X_train, y_train)\n",
    "y_pred_begging = bag_clf.predict(X_test)\n",
    "\n",
    "print(f'accuracy Bagging = {accuracy_score(y_test, y_pred_begging):.3%}')"
   ]
  },
  {
   "cell_type": "markdown",
   "id": "44099ebb",
   "metadata": {},
   "source": [
    "___\n",
    "# Random Forest"
   ]
  },
  {
   "cell_type": "code",
   "execution_count": 19,
   "id": "144036c3",
   "metadata": {},
   "outputs": [],
   "source": [
    "from sklearn.ensemble import RandomForestClassifier"
   ]
  },
  {
   "cell_type": "code",
   "execution_count": 20,
   "id": "172bbc6b",
   "metadata": {},
   "outputs": [
    {
     "name": "stdout",
     "output_type": "stream",
     "text": [
      "accuracy Random Forest = 79.821%\n"
     ]
    }
   ],
   "source": [
    "clf = RandomForestClassifier(n_estimators=500, max_features='sqrt')\n",
    "clf.fit(X_train, y_train)\n",
    "y_pred_rf = clf.predict(X_test)\n",
    "\n",
    "print(f'accuracy Random Forest = {accuracy_score(y_test, y_pred_rf):.3%}')"
   ]
  },
  {
   "cell_type": "code",
   "execution_count": 21,
   "id": "2dd1c4b8",
   "metadata": {},
   "outputs": [
    {
     "data": {
      "text/plain": [
       "<AxesSubplot:xlabel='importances', ylabel='name'>"
      ]
     },
     "execution_count": 21,
     "metadata": {},
     "output_type": "execute_result"
    },
    {
     "data": {
      "image/png": "[encoded data removed]",
      "text/plain": [
       "<Figure size 432x288 with 1 Axes>"
      ]
     },
     "metadata": {
      "needs_background": "light"
     },
     "output_type": "display_data"
    }
   ],
   "source": [
    "feature_imp = pd.DataFrame({'importances': clf.feature_importances_, \n",
    "                            'name':['Pclass','Sex','Age','SibSp','Parch','Fare','Embarked_C','Embarked_Q','Embarked_S']})\n",
    "sns.barplot(x=\"importances\", y=\"name\", data=feature_imp)"
   ]
  },
  {
   "cell_type": "markdown",
   "id": "fc421ae0",
   "metadata": {},
   "source": [
    "___\n",
    "# Voting Classifier"
   ]
  },
  {
   "cell_type": "code",
   "execution_count": 22,
   "id": "63ff11ea",
   "metadata": {},
   "outputs": [],
   "source": [
    "from sklearn.ensemble import VotingClassifier"
   ]
  },
  {
   "cell_type": "code",
   "execution_count": 23,
   "id": "57cae9e1",
   "metadata": {
    "scrolled": true
   },
   "outputs": [
    {
     "name": "stdout",
     "output_type": "stream",
     "text": [
      "accuracy Voting Classifier = 82.511%\n"
     ]
    }
   ],
   "source": [
    "log_clf = LogisticRegression()\n",
    "rnd_clf = RandomForestClassifier(n_estimators=500, max_features='sqrt')\n",
    "svm_clf = SVC()\n",
    "\n",
    "voting_clf = VotingClassifier(\n",
    "        estimators=[('lr', log_clf), ('rf', rnd_clf), ('svc', svm_clf)], voting='hard')\n",
    "\n",
    "voting_clf.fit(X_train,y_train)\n",
    "y_pred_vot = voting_clf.predict(X_test)\n",
    "\n",
    "print(f'accuracy Voting Classifier = {accuracy_score(y_test, y_pred_vot):.3%}')"
   ]
  },
  {
   "cell_type": "code",
   "execution_count": 24,
   "id": "8af19348",
   "metadata": {},
   "outputs": [
    {
     "data": {
      "text/html": [
       "<div>\n",
       "<style scoped>\n",
       "    .dataframe tbody tr th:only-of-type {\n",
       "        vertical-align: middle;\n",
       "    }\n",
       "\n",
       "    .dataframe tbody tr th {\n",
       "        vertical-align: top;\n",
       "    }\n",
       "\n",
       "    .dataframe thead th {\n",
       "        text-align: right;\n",
       "    }\n",
       "</style>\n",
       "<table border=\"1\" class=\"dataframe\">\n",
       "  <thead>\n",
       "    <tr style=\"text-align: right;\">\n",
       "      <th></th>\n",
       "      <th>model</th>\n",
       "      <th>accuracy</th>\n",
       "      <th>std</th>\n",
       "    </tr>\n",
       "  </thead>\n",
       "  <tbody>\n",
       "    <tr>\n",
       "      <th>0</th>\n",
       "      <td>Logistic Regression</td>\n",
       "      <td>79.57</td>\n",
       "      <td>0.028</td>\n",
       "    </tr>\n",
       "    <tr>\n",
       "      <th>1</th>\n",
       "      <td>SVM</td>\n",
       "      <td>82.94</td>\n",
       "      <td>0.023</td>\n",
       "    </tr>\n",
       "    <tr>\n",
       "      <th>2</th>\n",
       "      <td>Decision Tree</td>\n",
       "      <td>78.56</td>\n",
       "      <td>0.032</td>\n",
       "    </tr>\n",
       "    <tr>\n",
       "      <th>3</th>\n",
       "      <td>Random Forest</td>\n",
       "      <td>80.81</td>\n",
       "      <td>0.024</td>\n",
       "    </tr>\n",
       "    <tr>\n",
       "      <th>4</th>\n",
       "      <td>Voting classifier</td>\n",
       "      <td>82.60</td>\n",
       "      <td>0.031</td>\n",
       "    </tr>\n",
       "  </tbody>\n",
       "</table>\n",
       "</div>"
      ],
      "text/plain": [
       "                 model  accuracy    std\n",
       "0  Logistic Regression     79.57  0.028\n",
       "1                  SVM     82.94  0.023\n",
       "2        Decision Tree     78.56  0.032\n",
       "3        Random Forest     80.81  0.024\n",
       "4    Voting classifier     82.60  0.031"
      ]
     },
     "execution_count": 24,
     "metadata": {},
     "output_type": "execute_result"
    }
   ],
   "source": [
    "accuracy_basic_models = []\n",
    "k = 5\n",
    "kf = KFold(n_splits=k, shuffle=True, random_state=None)\n",
    "estimators=[('lr', log_clf), ('rf', rnd_clf), ('svc', SVC(probability=True))]\n",
    "\n",
    "models = [(LogisticRegression(),'Logistic Regression'), \n",
    "          (SVC(),'SVM'), \n",
    "          (DecisionTreeClassifier(),'Decision Tree'), \n",
    "          (RandomForestClassifier(n_estimators=100, max_features='sqrt'),'Random Forest'),\n",
    "          (VotingClassifier(estimators=estimators, voting='soft'), 'Voting classifier')]\n",
    "\n",
    "for model, name in models:\n",
    "    scores = cross_val_score(model , X, Y, cv = kf)\n",
    "    accuracy_basic_models.append((name, round(scores.mean()*100,2), round(scores.std(),3)))\n",
    "    \n",
    "basic_models = pd.DataFrame(data = accuracy_basic_models, columns = ['model','accuracy','std'])\n",
    "basic_models"
   ]
  },
  {
   "cell_type": "markdown",
   "id": "290e82f1",
   "metadata": {},
   "source": [
    "Voting classifier дает примерно те же результаты. Лучший результат у SVM. Попробую его улучшить"
   ]
  },
  {
   "cell_type": "code",
   "execution_count": 25,
   "id": "46559d71",
   "metadata": {},
   "outputs": [
    {
     "data": {
      "image/png": "[encoded data removed]",
      "text/plain": [
       "<Figure size 432x288 with 1 Axes>"
      ]
     },
     "metadata": {
      "needs_background": "light"
     },
     "output_type": "display_data"
    }
   ],
   "source": [
    "C = np.array([i for i in range(1,100)]) \n",
    "accur = []\n",
    "\n",
    "for c in C:\n",
    "    model = SVC(C = c)\n",
    "    scores = cross_val_score(model , X, Y, cv = kf)\n",
    "    accur.append(scores.mean())\n",
    "    \n",
    "plt.plot(C, accur, marker='.', label='SVM accuracy', color='green')\n",
    "plt.xlabel('C')\n",
    "plt.ylabel('Accuracy')\n",
    "plt.legend()\n",
    "\n",
    "plt.show()"
   ]
  },
  {
   "cell_type": "markdown",
   "id": "0f5c21ee",
   "metadata": {},
   "source": [
    "C = 1 лучший вариант, те несильно штрафуем за ошибку."
   ]
  },
  {
   "cell_type": "markdown",
   "id": "76c28f07",
   "metadata": {},
   "source": [
    "___\n",
    "## Gradient Boosting"
   ]
  },
  {
   "cell_type": "code",
   "execution_count": 26,
   "id": "31d87d12",
   "metadata": {},
   "outputs": [],
   "source": [
    "from catboost import CatBoostClassifier \n",
    "from lightgbm import LGBMClassifier"
   ]
  },
  {
   "cell_type": "code",
   "execution_count": 27,
   "id": "45c3968e",
   "metadata": {},
   "outputs": [
    {
     "name": "stdout",
     "output_type": "stream",
     "text": [
      "accuracy Gradient Boosting = 82.063%\n"
     ]
    }
   ],
   "source": [
    "clf = CatBoostClassifier(iterations=300, logging_level='Silent', random_state=13)\n",
    "clf.fit(X_train, y_train)\n",
    "\n",
    "y_pred_gb = clf.predict(X_test)\n",
    "\n",
    "print(f'accuracy Gradient Boosting = {accuracy_score(y_test, y_pred_gb):.3%}')"
   ]
  },
  {
   "cell_type": "code",
   "execution_count": 28,
   "id": "e5fad0e0",
   "metadata": {},
   "outputs": [
    {
     "name": "stdout",
     "output_type": "stream",
     "text": [
      "accuracy Gradient Boosting GBM = 80.717%\n"
     ]
    }
   ],
   "source": [
    "clf = LGBMClassifier(n_estimators=300, random_state=13)\n",
    "clf.fit(X_train, y_train)\n",
    "\n",
    "y_pred_gbm = clf.predict(X_test)\n",
    "\n",
    "print(f'accuracy Gradient Boosting GBM = {accuracy_score(y_test, y_pred_gbm):.3%}')"
   ]
  },
  {
   "cell_type": "code",
   "execution_count": 29,
   "id": "a9c9343d",
   "metadata": {},
   "outputs": [
    {
     "data": {
      "text/html": [
       "<div>\n",
       "<style scoped>\n",
       "    .dataframe tbody tr th:only-of-type {\n",
       "        vertical-align: middle;\n",
       "    }\n",
       "\n",
       "    .dataframe tbody tr th {\n",
       "        vertical-align: top;\n",
       "    }\n",
       "\n",
       "    .dataframe thead th {\n",
       "        text-align: right;\n",
       "    }\n",
       "</style>\n",
       "<table border=\"1\" class=\"dataframe\">\n",
       "  <thead>\n",
       "    <tr style=\"text-align: right;\">\n",
       "      <th></th>\n",
       "      <th>model</th>\n",
       "      <th>accuracy</th>\n",
       "      <th>std</th>\n",
       "    </tr>\n",
       "  </thead>\n",
       "  <tbody>\n",
       "    <tr>\n",
       "      <th>0</th>\n",
       "      <td>Catboost</td>\n",
       "      <td>81.82</td>\n",
       "      <td>0.014</td>\n",
       "    </tr>\n",
       "    <tr>\n",
       "      <th>1</th>\n",
       "      <td>lightgbm</td>\n",
       "      <td>80.58</td>\n",
       "      <td>0.021</td>\n",
       "    </tr>\n",
       "  </tbody>\n",
       "</table>\n",
       "</div>"
      ],
      "text/plain": [
       "      model  accuracy    std\n",
       "0  Catboost     81.82  0.014\n",
       "1  lightgbm     80.58  0.021"
      ]
     },
     "execution_count": 29,
     "metadata": {},
     "output_type": "execute_result"
    }
   ],
   "source": [
    "accuracy_basic_models = []\n",
    "models = [(CatBoostClassifier(iterations=300, logging_level='Silent'),'Catboost'), \n",
    "          (LGBMClassifier(n_estimators=300), 'lightgbm')]\n",
    "\n",
    "for model, name in models:\n",
    "    scores = cross_val_score(model , X, Y, cv = kf)\n",
    "    accuracy_basic_models.append((name, round(scores.mean()*100,2), round(scores.std(),3)))\n",
    "    \n",
    "basic_models = pd.DataFrame(data = accuracy_basic_models, columns = ['model','accuracy','std'])\n",
    "basic_models"
   ]
  },
  {
   "cell_type": "markdown",
   "id": "bad5059a",
   "metadata": {},
   "source": [
    "Catboost неплохо себя показывает. Нужно подумать над гиперпараметрами тут."
   ]
  },
  {
   "cell_type": "markdown",
   "id": "316b8529",
   "metadata": {},
   "source": [
    "Гиперпараметры: \n",
    "* глубина базовых деревьев `max_depth`\n",
    "* число деревьев N - число итераций бустинга `n_estimators`\n",
    "* скорость обучения `learning_rate`\n",
    "* число признаков при построении одного дерева `feature_fraction`\n",
    "\n",
    "Начинать настройку можно с самых главных параметров: learning_rate и n_estimators. Обычно один из них фиксируют, а другой подбирают (например, фиксируют n_estimators=1000 и подбирают learning_rate). Следующим по важности является max_depth."
   ]
  },
  {
   "cell_type": "code",
   "execution_count": 30,
   "id": "620a6db6",
   "metadata": {},
   "outputs": [
    {
     "data": {
      "image/png": "[encoded data removed]",
      "text/plain": [
       "<Figure size 828x504 with 1 Axes>"
      ]
     },
     "metadata": {
      "needs_background": "light"
     },
     "output_type": "display_data"
    }
   ],
   "source": [
    "n_trees = np.array([i for i in range(1,20)]) * 15\n",
    "accuracy_cbm = []\n",
    "\n",
    "for n in n_trees:\n",
    "    cbm = CatBoostClassifier(n_estimators=n, logging_level=\"Silent\")\n",
    "    cbm.fit(X_train, y_train)\n",
    "    accuracy_cbm.append(accuracy_score(y_test, cbm.predict(X_test)))\n",
    "    \n",
    "plt.figure(figsize=(11.5, 7))\n",
    "plt.plot(n_trees, accuracy_cbm, marker='+', label='CatBoost accuracy', color='red')\n",
    "plt.xlabel('Number of trees')\n",
    "plt.ylabel('accuracy')\n",
    "plt.legend()\n",
    "\n",
    "plt.show()"
   ]
  },
  {
   "cell_type": "markdown",
   "id": "51947b1b",
   "metadata": {},
   "source": [
    "150 - в цело лучшее значение получается"
   ]
  },
  {
   "cell_type": "code",
   "execution_count": 31,
   "id": "b0bbc915",
   "metadata": {},
   "outputs": [
    {
     "data": {
      "image/png": "[encoded data removed]",
      "text/plain": [
       "<Figure size 828x504 with 1 Axes>"
      ]
     },
     "metadata": {
      "needs_background": "light"
     },
     "output_type": "display_data"
    }
   ],
   "source": [
    "learn_rate = np.geomspace(0.01, 1, 30)\n",
    "accuracy_cbm = []\n",
    "\n",
    "for r in learn_rate:\n",
    "    cbm = CatBoostClassifier(n_estimators=400,learning_rate=r, logging_level=\"Silent\")\n",
    "    cbm.fit(X_train, y_train)\n",
    "    accuracy_cbm.append(accuracy_score(y_test, cbm.predict(X_test)))\n",
    "    \n",
    "plt.figure(figsize=(11.5, 7))\n",
    "plt.plot(learn_rate, accuracy_cbm, marker='+', label='CatBoost accuracy', color='red')\n",
    "plt.xlabel('learning rate')\n",
    "plt.ylabel('accuracy')\n",
    "plt.legend()\n",
    "\n",
    "plt.show()"
   ]
  },
  {
   "cell_type": "code",
   "execution_count": 32,
   "id": "309741c8",
   "metadata": {},
   "outputs": [
    {
     "data": {
      "image/png": "[encoded data removed]",
      "text/plain": [
       "<Figure size 1080x504 with 1 Axes>"
      ]
     },
     "metadata": {
      "needs_background": "light"
     },
     "output_type": "display_data"
    }
   ],
   "source": [
    "n_trees = np.array([i for i in range(1,20)]) * 10\n",
    "learning_rate = [0.05,0.1,0.5,0.7,1]\n",
    "accuracy_cbm = []\n",
    "lear_acc = []\n",
    "\n",
    "for l in learning_rate:\n",
    "    lear_acc = []\n",
    "    for n in n_trees:\n",
    "        cbm = CatBoostClassifier(n_estimators=n,learning_rate=l, logging_level=\"Silent\")\n",
    "        cbm.fit(X_train, y_train)\n",
    "        lear_acc.append(accuracy_score(y_test, cbm.predict(X_test)))\n",
    "    accuracy_cbm.append((l, lear_acc))   \n",
    "\n",
    "plt.figure(figsize=(15, 7))\n",
    "plt.plot(n_trees, accuracy_cbm[0][1], marker='+', label=f'learning rate {accuracy_cbm[0][0]}')\n",
    "plt.plot(n_trees, accuracy_cbm[1][1], marker='+', label=f'learning rate {accuracy_cbm[1][0]}')\n",
    "plt.plot(n_trees, accuracy_cbm[2][1], marker='+', label=f'learning rate {accuracy_cbm[2][0]}')\n",
    "plt.plot(n_trees, accuracy_cbm[3][1], marker='+', label=f'learning rate {accuracy_cbm[3][0]}')\n",
    "plt.plot(n_trees, accuracy_cbm[4][1], marker='+', label=f'learning rate {accuracy_cbm[4][0]}')\n",
    "plt.xlabel('Number of trees')\n",
    "plt.ylabel('accuracy')\n",
    "plt.legend()\n",
    "\n",
    "plt.show()"
   ]
  },
  {
   "cell_type": "markdown",
   "id": "7e8f5af7",
   "metadata": {},
   "source": [
    "Видно, что лучше брать небольшой learning rate, значит и number of trees побольше "
   ]
  },
  {
   "cell_type": "code",
   "execution_count": null,
   "id": "959e0b2c",
   "metadata": {},
   "outputs": [],
   "source": [
    "estim = CatBoostClassifier(logging_level='Silent', learning_rate=0.05)\n",
    "param_grid = [\n",
    "    {'max_depth' : [3,4,5,6],\n",
    "     'n_estimators' : [400,500,600,700]}\n",
    "]\n",
    "alg_xgb_grid = GridSearchCV(estim, param_grid, cv=kf)\n",
    "\n",
    "alg_xgb_grid.fit(X, Y)\n",
    "alg_xgb_best = alg_xgb_grid.best_estimator_\n",
    "print(\"Accuracy (xgboost auto): {} with params {}\".format(alg_xgb_grid.best_score_, alg_xgb_grid.best_params_))"
   ]
  },
  {
   "cell_type": "code",
   "execution_count": null,
   "id": "2526bdca",
   "metadata": {},
   "outputs": [],
   "source": [
    "model = CatBoostClassifier(logging_level='Silent', learning_rate=0.05, max_depth = 5, n_estimators=700)\n",
    "scores = cross_val_score(model , X, Y, cv = kf)\n",
    "round(scores.mean()*100,2)"
   ]
  },
  {
   "cell_type": "markdown",
   "id": "545c6f53",
   "metadata": {},
   "source": [
    "Best parametrs : \n",
    "* learning rate = 0.05\n",
    "* max_depth = 5\n",
    "* n_estimators = 600"
   ]
  },
  {
   "cell_type": "markdown",
   "id": "2ab2b5cc",
   "metadata": {},
   "source": [
    "Снова применим Voting Classifier"
   ]
  },
  {
   "cell_type": "code",
   "execution_count": null,
   "id": "c5331d3c",
   "metadata": {},
   "outputs": [],
   "source": [
    "cmb_clf = CatBoostClassifier(logging_level='Silent', learning_rate=0.05, max_depth = 5, n_estimators=600)\n",
    "svm_clf = SVC(probability=True)\n",
    "\n",
    "model = VotingClassifier(\n",
    "        estimators=[('cmb', cmb_clf), ('svc', svm_clf)], voting='hard')\n",
    "\n",
    "scores = cross_val_score(model , X, Y, cv = kf)\n",
    "\n",
    "print(f'accuracy Voting Classifier = {scores.mean():.2%}, {scores.std():.3f}')"
   ]
  },
  {
   "cell_type": "markdown",
   "id": "e69229c4",
   "metadata": {},
   "source": [
    "___"
   ]
  },
  {
   "cell_type": "code",
   "execution_count": null,
   "id": "250ddc05",
   "metadata": {},
   "outputs": [],
   "source": [
    "test_data = pd.read_csv('test.csv')\n",
    "test_data.head()"
   ]
  },
  {
   "cell_type": "code",
   "execution_count": null,
   "id": "a3eb98d7",
   "metadata": {},
   "outputs": [],
   "source": [
    "answer = test_data['PassengerId']"
   ]
  },
  {
   "cell_type": "code",
   "execution_count": null,
   "id": "4ef0a2c3",
   "metadata": {},
   "outputs": [],
   "source": [
    "test_data.info()"
   ]
  },
  {
   "cell_type": "code",
   "execution_count": null,
   "id": "f2a38271",
   "metadata": {},
   "outputs": [],
   "source": [
    "avg_age = data.Age.mean()\n",
    "column = ['Pclass','Sex','Age','SibSp','Parch','Fare','Embarked_C','Embarked_Q','Embarked_S']\n",
    "\n",
    "test_data.Sex.replace(['male','female'],[1,0], inplace=True)\n",
    "\n",
    "test_data = pd.get_dummies(test_data, columns=['Embarked'])\n",
    "\n",
    "test_data.Age.fillna(avg_age, inplace=True)\n",
    "test_data.Fare.fillna(test_data.Fare.mean(), inplace=True)\n",
    "\n",
    "X_test = test_data[column]\n",
    "\n",
    "X_test.head()"
   ]
  },
  {
   "cell_type": "code",
   "execution_count": null,
   "id": "255ccf0c",
   "metadata": {},
   "outputs": [],
   "source": [
    "X_test.info()"
   ]
  },
  {
   "cell_type": "code",
   "execution_count": null,
   "id": "6994af56",
   "metadata": {},
   "outputs": [],
   "source": [
    "X_test.shape"
   ]
  },
  {
   "cell_type": "code",
   "execution_count": null,
   "id": "d34e47ba",
   "metadata": {},
   "outputs": [],
   "source": [
    "X_test = scaler.transform(X_test)"
   ]
  },
  {
   "cell_type": "code",
   "execution_count": null,
   "id": "8bddf0de",
   "metadata": {},
   "outputs": [],
   "source": [
    "X_test.shape"
   ]
  },
  {
   "cell_type": "code",
   "execution_count": null,
   "id": "36e28a73",
   "metadata": {},
   "outputs": [],
   "source": [
    "cmb_clf = CatBoostClassifier(logging_level='Silent', learning_rate=0.05, max_depth = 5, n_estimators=600)\n",
    "svm_clf = SVC()\n",
    "\n",
    "model = VotingClassifier(\n",
    "        estimators=[('cmb', cmb_clf), ('svc', svm_clf)], voting='hard')\n",
    "\n",
    "model.fit(X,Y)\n",
    "y_pred = model.predict(X_test)"
   ]
  },
  {
   "cell_type": "code",
   "execution_count": null,
   "id": "3c7a204d",
   "metadata": {},
   "outputs": [],
   "source": [
    "model = CatBoostClassifier(logging_level='Silent', learning_rate=0.05, max_depth = 5, n_estimators=600)\n",
    "\n",
    "model.fit(X,Y)\n",
    "y_pred_2 = model.predict(X_test)"
   ]
  },
  {
   "cell_type": "code",
   "execution_count": null,
   "id": "b551676f",
   "metadata": {},
   "outputs": [],
   "source": [
    "ans = pd.DataFrame({'PassengerId' : answer.values, 'Survived' : y_pred_2})\n",
    "ans.Survived = ans.Survived.astype(int)\n",
    "ans.set_index('PassengerId', inplace=True)"
   ]
  },
  {
   "cell_type": "code",
   "execution_count": null,
   "id": "1f193087",
   "metadata": {},
   "outputs": [],
   "source": [
    "ans.to_csv('gender_submission.csv')"
   ]
  }
 ],
 "metadata": {
  "kernelspec": {
   "display_name": "Python 3 (ipykernel)",
   "language": "python",
   "name": "python3"
  },
  "language_info": {
   "codemirror_mode": {
    "name": "ipython",
    "version": 3
   },
   "file_extension": ".py",
   "mimetype": "text/x-python",
   "name": "python",
   "nbconvert_exporter": "python",
   "pygments_lexer": "ipython3",
   "version": "3.8.11"
  }
 },
 "nbformat": 4,
 "nbformat_minor": 5
}
